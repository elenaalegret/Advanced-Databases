{
 "cells": [
  {
   "cell_type": "markdown",
   "metadata": {},
   "source": [
    "## Dataset Exploration:\n"
   ]
  },
  {
   "cell_type": "code",
   "execution_count": 48,
   "metadata": {},
   "outputs": [],
   "source": [
    "#!pip install duckdb\n",
    "#!pip3 install pyspark\n",
    "#!sudo -u postgres psql -U postgres -c \"ALTER USER postgres PASSWORD 'postgres';\"\n",
    "#!sudo -u postgres psql -U postgres -c 'DROP DATABASE IF EXISTS pyspark_postgres;'\n",
    "#!sudo -u postgres psql -U postgres -c 'CREATE DATABASE pyspark_postgres;'\n",
    "#!wget -O \"postgresql.jar\" \"https://repo1.maven.org/maven2/org/postgresql/postgresql/42.7.3/postgresql-42.7.3.jar\"\n",
    "#!wget -O \"duckdb.jar\" \"https://repo1.maven.org/maven2/org/duckdb/duckdb_jdbc/0.10.1/duckdb_jdbc-0.10.1.jar\"\n"
   ]
  },
  {
   "cell_type": "code",
   "execution_count": 12,
   "metadata": {},
   "outputs": [],
   "source": [
    "## Imports\n",
    "import duckdb\n",
    "import pyspark\n",
    "from pyspark.sql import SparkSession\n",
    "from pprint import pprint\n",
    "\n",
    "## Connection to formatted database\n",
    "jdbc_url = 'jdbc:duckdb:./../data/formatted_zone/barcelona.db'\n",
    "driver = \"org.duckdb.DuckDBDriver\"\n",
    "\n",
    "# SparkSession inicialitzation\n",
    "spark = SparkSession.builder\\\n",
    "    .config(\"spark.jars\", \"duckdb.jar\") \\\n",
    "    .appName(\"DataExploration\") \\\n",
    "    .getOrCreate()"
   ]
  },
  {
   "cell_type": "markdown",
   "metadata": {},
   "source": [
    "#### Criminal Dataset\n"
   ]
  },
  {
   "cell_type": "code",
   "execution_count": 13,
   "metadata": {},
   "outputs": [
    {
     "name": "stdout",
     "output_type": "stream",
     "text": [
      "+----+-------+--------+--------------------+-----------------------+---------+-----------------+--------------------+-----------------------+--------------------+--------------------+------------------------+-------------------------+--------------------+-------------------------+---------------+\n",
      "| any|n_m_mes| nom_mes|    regi_policial_rp|rea_b_sica_policial_abp|prov_ncia|          comarca|            municipi|tipus_de_lloc_dels_fets|     canal_dels_fets|        tipus_de_fet|t_tol_del_fet_codi_penal|tipus_de_fet_codi_penal_o|            mbit_fet|nombre_fets_o_infraccions|nombre_v_ctimes|\n",
      "+----+-------+--------+--------------------+-----------------------+---------+-----------------+--------------------+-----------------------+--------------------+--------------------+------------------------+-------------------------+--------------------+-------------------------+---------------+\n",
      "|2021|     12|Desembre|RP  Metropolitana...|           ABP Badalona|Barcelona|       Barcelonès|            Badalona|     Via pública urbana|          Presencial|            Delictes|          De les lesions|                  Lesions|             Sexisme|                        1|            1.0|\n",
      "|2021|      6|    Juny|          RP Central|              ABP Anoia|Barcelona|            Anoia|Resta municipis A...|   Habitatge - Escal...|          Presencial|            Delictes|    Delictes contra l...|                 Amenaces|             Sexisme|                        1|            1.0|\n",
      "|2021|      6|    Juny|RP Metropolitana ...|         ABP Nou Barris|Barcelona|       Barcelonès|           Barcelona|     Via pública urbana|          Presencial|            Delictes|    Delictes contra l...|                 Amenaces| Orientació política|                        1|            1.0|\n",
      "|2020|      1|   Gener|RP  Metropolitana...|               ABP Rubí|Barcelona|Vallès Occidental|Sant Cugat del Va...|   Centre de dia/Res...|          Presencial|            Delictes|    Delictes contra l...|     Contra exercici d...|Ètnic, origen nac...|                        1|            1.0|\n",
      "|2020|      1|   Gener|RP Metropolitana ...|           ABP Eixample|Barcelona|       Barcelonès|           Barcelona|      Zona d'oci/lúdica|          Presencial|            Delictes|    Delictes contra e...|     Robatori amb viol...|         LGTBI-fòbia|                        1|            1.0|\n",
      "|2020|      1|   Gener|RP  Metropolitana...|         ABP Cerdanyola|Barcelona|Vallès Occidental|Cerdanyola del Va...|   Habitatge - Prime...|          Presencial|            Delictes|    Delictes contra e...|             Danys (lleu)| Orientació política|                        1|            1.0|\n",
      "|2020|      1|   Gener|RP Camp de Tarragona|         ABP Tarragonès|Tarragona|       Tarragonès|           Tarragona|         Partit polític|          Presencial|            Delictes|    Delictes contra l...|         Coaccions (lleu)| Orientació política|                        1|            1.0|\n",
      "|2020|      1|   Gener|RP Metropolitana ...|        ABP Sant Andreu|Barcelona|       Barcelonès|           Barcelona|     Via pública urbana|          Presencial|            Delictes|    Delictes contra l...|     Contra exercici d...|Ètnic, origen nac...|                        1|            2.0|\n",
      "|2020|      1|   Gener|           RP Ponent|   ABP Segrià - Garr...|   Lleida|           Segrià|              Lleida|   Habitatge - Prime...|Internet o xarxes...|            Delictes|    Delictes contra l...|          Amenaces (lleu)|Ètnic, origen nac...|                        1|            1.0|\n",
      "|2020|      1|   Gener|RP Metropolitana ...|     ABP Sants-Montjuïc|Barcelona|       Barcelonès|           Barcelona|   Transport públic ...|          Presencial|            Delictes|          De les lesions|                  Lesions|Ètnic, origen nac...|                        1|            1.0|\n",
      "|2020|      1|   Gener|RP Camp de Tarragona|   ABP Baix Camp - P...|Tarragona|        Baix Camp|            Cambrils|     Via pública urbana|          Presencial|            Delictes|          De les lesions|           Lesions (lleu)|Ètnic, origen nac...|                        1|            2.0|\n",
      "|2020|      1|   Gener|RP Metropolitana ...|          ABP Les Corts|Barcelona|       Barcelonès|           Barcelona|   Habitatge - Prime...|Internet o xarxes...|            Delictes|    Delictes contra l...|          Amenaces (lleu)| Orientació política|                        1|            1.0|\n",
      "|2020|      1|   Gener|RP Metropolitana Sud|   ABP Cornellà de L...|Barcelona|   Baix Llobregat|Cornellà de Llobr...|     Via pública urbana|          Presencial|            Delictes|          De les lesions|           Lesions (lleu)| Orientació política|                        1|            1.0|\n",
      "|2020|      1|   Gener|RP Metropolitana Sud|   ABP Cornellà de L...|Barcelona|   Baix Llobregat|Cornellà de Llobr...|   Habitatge - Prime...|Internet o xarxes...|            Delictes|    Delictes contra l...|          Amenaces (lleu)|Ètnic, origen nac...|                        1|            1.0|\n",
      "|2020|      1|   Gener|RP Metropolitana Sud|   ABP l'Hospitalet ...|Barcelona|       Barcelonès|Hospitalet de Llo...|         Partit polític|          Presencial|Infraccions admin...|    Llei 4/15 de Prot...|     Danys / deslluïme...| Orientació política|                        1|            1.0|\n",
      "|2020|      1|   Gener|RP Metropolitana Sud|   ABP Cornellà de L...|Barcelona|   Baix Llobregat|Cornellà de Llobr...|     Via pública urbana|          Presencial|            Delictes|          De les lesions|           Lesions (lleu)| Orientació política|                        1|            1.0|\n",
      "|2020|      1|   Gener|           RP Girona|   ABP Gironès - Pla...|   Girona|  Pla de l'Estany|            Banyoles|   Habitatge - Altre...|          Presencial|            Delictes|    Delictes contra l...|                 Amenaces|            Religiós|                        1|            3.0|\n",
      "|2020|      1|   Gener|           RP Girona|      ABP Selva Litoral|   Girona|            Selva|       Lloret de Mar|     Via pública urbana|          Presencial|            Delictes|    Delictes contra l...|     Contra exercici d...|Ètnic, origen nac...|                        1|            1.0|\n",
      "|2020|      1|   Gener|RP Metropolitana ...|           ABP Eixample|Barcelona|       Barcelonès|           Barcelona|     Via pública urbana|          Presencial|            Delictes|    Delictes contra l...|     Contra exercici d...|         LGTBI-fòbia|                        1|            1.0|\n",
      "|2020|      1|   Gener|RP Metropolitana Sud|             ABP Garraf|Barcelona|           Garraf|Vilanova i la Geltrú|   Establiments - Re...|          Presencial|            Delictes|    Delictes contra l...|          Amenaces (lleu)|Ètnic, origen nac...|                        1|            2.0|\n",
      "+----+-------+--------+--------------------+-----------------------+---------+-----------------+--------------------+-----------------------+--------------------+--------------------+------------------------+-------------------------+--------------------+-------------------------+---------------+\n",
      "only showing top 20 rows\n",
      "\n"
     ]
    }
   ],
   "source": [
    "df = spark.read \\\n",
    "  .format(\"jdbc\") \\\n",
    "  .option(\"url\", jdbc_url) \\\n",
    "  .option(\"driver\", driver) \\\n",
    "  .option(\"query\", \"SELECT * FROM df_criminal_dataset\") \\\n",
    "  .load()\n",
    "\n",
    "df.show()"
   ]
  },
  {
   "cell_type": "code",
   "execution_count": null,
   "metadata": {},
   "outputs": [],
   "source": []
  },
  {
   "cell_type": "code",
   "execution_count": null,
   "metadata": {},
   "outputs": [],
   "source": []
  },
  {
   "cell_type": "code",
   "execution_count": null,
   "metadata": {},
   "outputs": [],
   "source": []
  },
  {
   "cell_type": "code",
   "execution_count": null,
   "metadata": {},
   "outputs": [],
   "source": []
  },
  {
   "cell_type": "code",
   "execution_count": null,
   "metadata": {},
   "outputs": [],
   "source": []
  },
  {
   "cell_type": "code",
   "execution_count": null,
   "metadata": {},
   "outputs": [],
   "source": []
  },
  {
   "cell_type": "code",
   "execution_count": null,
   "metadata": {},
   "outputs": [],
   "source": [
    "spark.stop()"
   ]
  }
 ],
 "metadata": {
  "kernelspec": {
   "display_name": "base",
   "language": "python",
   "name": "python3"
  },
  "language_info": {
   "codemirror_mode": {
    "name": "ipython",
    "version": 3
   },
   "file_extension": ".py",
   "mimetype": "text/x-python",
   "name": "python",
   "nbconvert_exporter": "python",
   "pygments_lexer": "ipython3",
   "version": "3.11.4"
  }
 },
 "nbformat": 4,
 "nbformat_minor": 2
}
