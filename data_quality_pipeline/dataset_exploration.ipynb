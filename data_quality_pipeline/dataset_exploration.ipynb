{
 "cells": [
  {
   "cell_type": "markdown",
   "metadata": {},
   "source": [
    "## Dataset Exploration:\n"
   ]
  },
  {
   "cell_type": "code",
   "execution_count": 4,
   "metadata": {},
   "outputs": [],
   "source": [
    "#!pip install duckdb\n",
    "#!pip3 install pyspark\n",
    "#!sudo -u postgres psql -U postgres -c \"ALTER USER postgres PASSWORD 'postgres';\"\n",
    "#!sudo -u postgres psql -U postgres -c 'DROP DATABASE IF EXISTS pyspark_postgres;'\n",
    "#!sudo -u postgres psql -U postgres -c 'CREATE DATABASE pyspark_postgres;'\n",
    "#!wget -O \"postgresql.jar\" \"https://repo1.maven.org/maven2/org/postgresql/postgresql/42.7.3/postgresql-42.7.3.jar\"\n",
    "#!wget -O \"duckdb.jar\" \"https://repo1.maven.org/maven2/org/duckdb/duckdb_jdbc/0.10.1/duckdb_jdbc-0.10.1.jar\"\n"
   ]
  },
  {
   "cell_type": "code",
   "execution_count": 5,
   "metadata": {},
   "outputs": [],
   "source": [
    "## Imports\n",
    "import duckdb\n",
    "import pyspark\n",
    "from pyspark.sql import SparkSession\n",
    "from pprint import pprint\n",
    "from pyspark.sql.functions import isnan, when, count\n",
    "\n",
    "## Connection to formatted database\n",
    "jdbc_url = 'jdbc:duckdb:./../data/formatted_zone/barcelona.db'\n",
    "driver = \"org.duckdb.DuckDBDriver\"\n",
    "\n",
    "# SparkSession inicialitzation\n",
    "spark = SparkSession.builder\\\n",
    "    .config(\"spark.jars\", \"duckdb.jar\") \\\n",
    "    .appName(\"DataExploration\") \\\n",
    "    .getOrCreate()"
   ]
  },
  {
   "cell_type": "markdown",
   "metadata": {},
   "source": [
    "#### Criminal Dataset\n"
   ]
  },
  {
   "cell_type": "code",
   "execution_count": 6,
   "metadata": {},
   "outputs": [
    {
     "name": "stdout",
     "output_type": "stream",
     "text": [
      "+----+-------+--------+--------------------+-----------------------+---------+----------+--------------------+-----------------------+---------------+------------+------------------------+-------------------------+--------+-------------------------+---------------+\n",
      "| any|n_m_mes| nom_mes|    regi_policial_rp|rea_b_sica_policial_abp|prov_ncia|   comarca|            municipi|tipus_de_lloc_dels_fets|canal_dels_fets|tipus_de_fet|t_tol_del_fet_codi_penal|tipus_de_fet_codi_penal_o|mbit_fet|nombre_fets_o_infraccions|nombre_v_ctimes|\n",
      "+----+-------+--------+--------------------+-----------------------+---------+----------+--------------------+-----------------------+---------------+------------+------------------------+-------------------------+--------+-------------------------+---------------+\n",
      "|2021|     12|Desembre|RP  Metropolitana...|           ABP Badalona|Barcelona|Barcelonès|            Badalona|     Via pública urbana|     Presencial|    Delictes|          De les lesions|                  Lesions| Sexisme|                        1|            1.0|\n",
      "|2021|      6|    Juny|          RP Central|              ABP Anoia|Barcelona|     Anoia|Resta municipis A...|   Habitatge - Escal...|     Presencial|    Delictes|    Delictes contra l...|                 Amenaces| Sexisme|                        1|            1.0|\n",
      "+----+-------+--------+--------------------+-----------------------+---------+----------+--------------------+-----------------------+---------------+------------+------------------------+-------------------------+--------+-------------------------+---------------+\n",
      "only showing top 2 rows\n",
      "\n"
     ]
    }
   ],
   "source": [
    "df = spark.read \\\n",
    "  .format(\"jdbc\") \\\n",
    "  .option(\"url\", jdbc_url) \\\n",
    "  .option(\"driver\", driver) \\\n",
    "  .option(\"query\", \"SELECT * FROM df_criminal_dataset\") \\\n",
    "  .load()\n",
    "\n",
    "df.show(2)"
   ]
  },
  {
   "cell_type": "code",
   "execution_count": 8,
   "metadata": {},
   "outputs": [],
   "source": [
    "# Correct the column names\n",
    "df = df.withColumnRenamed(\"n_m_mes\", \"num_mes\") \\\n",
    "       .withColumnRenamed(\"regi_policial_rp\", \"regio_policial\") \\\n",
    "       .withColumnRenamed(\"rea_b_sica_policial_abp\", \"area_basica_policial\") \\\n",
    "       .withColumnRenamed(\"t_tol_del_fet_codi_penal\", \"titol_del_fet_codi_penal\") \\\n",
    "       .withColumnRenamed(\"tipus_de_fet_codi_penal_o\", \"tipus_de_fet_codi_penal\") \\\n",
    "       .withColumnRenamed(\"mbit_fet\", \"ambit_fet\") \\\n",
    "       .withColumnRenamed(\"prov_ncia\", \"provincia\") \\\n",
    "       .withColumnRenamed(\"nombre_v_ctimes\", \"nombre_victimes\")"
   ]
  },
  {
   "cell_type": "code",
   "execution_count": 9,
   "metadata": {},
   "outputs": [
    {
     "name": "stdout",
     "output_type": "stream",
     "text": [
      "root\n",
      " |-- any: decimal(20,0) (nullable = true)\n",
      " |-- num_mes: decimal(20,0) (nullable = true)\n",
      " |-- nom_mes: string (nullable = true)\n",
      " |-- regio_policial: string (nullable = true)\n",
      " |-- area_basica_policial: string (nullable = true)\n",
      " |-- provincia: string (nullable = true)\n",
      " |-- comarca: string (nullable = true)\n",
      " |-- municipi: string (nullable = true)\n",
      " |-- tipus_de_lloc_dels_fets: string (nullable = true)\n",
      " |-- canal_dels_fets: string (nullable = true)\n",
      " |-- tipus_de_fet: string (nullable = true)\n",
      " |-- titol_del_fet_codi_penal: string (nullable = true)\n",
      " |-- tipus_de_fet_codi_penal: string (nullable = true)\n",
      " |-- ambit_fet: string (nullable = true)\n",
      " |-- nombre_fets_o_infraccions: decimal(20,0) (nullable = true)\n",
      " |-- nombre_victimes: double (nullable = true)\n",
      "\n"
     ]
    }
   ],
   "source": [
    "df.printSchema()"
   ]
  },
  {
   "cell_type": "code",
   "execution_count": 12,
   "metadata": {},
   "outputs": [
    {
     "name": "stdout",
     "output_type": "stream",
     "text": [
      "+-------+------------------+------------------+--------+--------------------+--------------------+---------+--------------+--------------------+-----------------------+---------------+--------------------+------------------------+-----------------------+--------------------+-------------------------+------------------+\n",
      "|summary|               any|           num_mes| nom_mes|      regio_policial|area_basica_policial|provincia|       comarca|            municipi|tipus_de_lloc_dels_fets|canal_dels_fets|        tipus_de_fet|titol_del_fet_codi_penal|tipus_de_fet_codi_penal|           ambit_fet|nombre_fets_o_infraccions|   nombre_victimes|\n",
      "+-------+------------------+------------------+--------+--------------------+--------------------+---------+--------------+--------------------+-----------------------+---------------+--------------------+------------------------+-----------------------+--------------------+-------------------------+------------------+\n",
      "|  count|              2289|              2289|    2289|                2289|                2289|     2289|          2289|                2289|                   2288|           2289|                2289|                    2289|                   2289|                2289|                     2289|               863|\n",
      "|   mean|         2021.7741|            6.7051|    NULL|                NULL|                NULL|     NULL|          NULL|                NULL|                   NULL|           NULL|                NULL|                    NULL|                   NULL|                NULL|                   1.0000|1.2966396292004636|\n",
      "| stddev|1.0871606296548673|3.2524835989513767|    NULL|                NULL|                NULL|     NULL|          NULL|                NULL|                   NULL|           NULL|                NULL|                    NULL|                   NULL|                NULL|                      0.0|0.7321425942635059|\n",
      "|    min|              2020|                 1|   Abril|RP  Metropolitana...|ABP Alt Camp - C....|Barcelona|ABP Tarragonès|ABP el Prat de Ll...|   AERO - Altres com...|Int. i/o Xarxes|              ALTRES|    01.-DE L'HOMICIDI...|         Abusos sexuals|       Antigitanisme|                        1|               0.0|\n",
      "|    max|              2023|                12|setembre| RP Terres de l'Ebre|Unitat d'informac...|Tarragona|           Vic|                Àger|     Zona/Eix comercial|     Presencial|Infracció adminis...|    NORMATIVA ESPORT:...|   Violència física ...|Ètnic/origen naci...|                        1|               7.0|\n",
      "+-------+------------------+------------------+--------+--------------------+--------------------+---------+--------------+--------------------+-----------------------+---------------+--------------------+------------------------+-----------------------+--------------------+-------------------------+------------------+\n",
      "\n"
     ]
    }
   ],
   "source": [
    "df.describe().show()"
   ]
  },
  {
   "cell_type": "code",
   "execution_count": 48,
   "metadata": {},
   "outputs": [
    {
     "name": "stdout",
     "output_type": "stream",
     "text": [
      "+---+-------+-------+--------------+--------------------+---------+-------+--------+-----------------------+---------------+------------+------------------------+-----------------------+---------+-------------------------+---------------+\n",
      "|any|num_mes|nom_mes|regio_policial|area_basica_policial|provincia|comarca|municipi|tipus_de_lloc_dels_fets|canal_dels_fets|tipus_de_fet|titol_del_fet_codi_penal|tipus_de_fet_codi_penal|ambit_fet|nombre_fets_o_infraccions|nombre_victimes|\n",
      "+---+-------+-------+--------------+--------------------+---------+-------+--------+-----------------------+---------------+------------+------------------------+-----------------------+---------+-------------------------+---------------+\n",
      "|  0|      0|      0|             0|                   0|        0|      0|       0|                      0|              0|           0|                       0|                      0|        0|                        0|              0|\n",
      "+---+-------+-------+--------------+--------------------+---------+-------+--------+-----------------------+---------------+------------+------------------------+-----------------------+---------+-------------------------+---------------+\n",
      "\n"
     ]
    }
   ],
   "source": [
    "# Counting the NaN values\n",
    "nan_counts = df.select([count(when(isnan(c), c)).alias(c) for c in df.columns])\n",
    "nan_counts.show()"
   ]
  },
  {
   "cell_type": "code",
   "execution_count": 13,
   "metadata": {},
   "outputs": [
    {
     "name": "stdout",
     "output_type": "stream",
     "text": [
      "+----+-------+-------+--------------------+--------------------+---------+----------+---------+-----------------------+---------------+------------+------------------------+-----------------------+-----------+-------------------------+---------------+\n",
      "| any|num_mes|nom_mes|      regio_policial|area_basica_policial|provincia|   comarca| municipi|tipus_de_lloc_dels_fets|canal_dels_fets|tipus_de_fet|titol_del_fet_codi_penal|tipus_de_fet_codi_penal|  ambit_fet|nombre_fets_o_infraccions|nombre_victimes|\n",
      "+----+-------+-------+--------------------+--------------------+---------+----------+---------+-----------------------+---------------+------------+------------------------+-----------------------+-----------+-------------------------+---------------+\n",
      "|2020|      1|  Gener|RP Metropolitana ...|        ABP Eixample|Barcelona|Barcelonès|Barcelona|      Zona d'oci/lúdica|     Presencial|    Delictes|    Delictes contra e...|   Robatori amb viol...|LGTBI-fòbia|                        1|            1.0|\n",
      "|2020|      1|  Gener|RP Metropolitana ...|        ABP Eixample|Barcelona|Barcelonès|Barcelona|     Via pública urbana|     Presencial|    Delictes|    Delictes contra l...|   Contra exercici d...|LGTBI-fòbia|                        1|            1.0|\n",
      "|2020|      2| Febrer|RP Metropolitana ...|        ABP Eixample|Barcelona|Barcelonès|Barcelona|                 Escola|     Presencial|    Delictes|    Delictes contra l...|                Injúria|LGTBI-fòbia|                        1|            1.0|\n",
      "|2020|      4|  Abril|RP Metropolitana ...|        ABP Eixample|Barcelona|Barcelonès|Barcelona|   Habitatge - Prime...|     Presencial|    Delictes|    Delictes contra l...|        Amenaces (lleu)|LGTBI-fòbia|                        1|            1.0|\n",
      "+----+-------+-------+--------------------+--------------------+---------+----------+---------+-----------------------+---------------+------------+------------------------+-----------------------+-----------+-------------------------+---------------+\n",
      "only showing top 4 rows\n",
      "\n"
     ]
    }
   ],
   "source": [
    "# Filter by region in Barcelona: [ABP Eixample, ABP Sants-Montjuïc, ABP Les Corts, ABP Barcelona]\n",
    "df_filtered = df.filter(df[\"area_basica_policial\"].isin(\"ABP Eixample\", \"ABP Sants-Montjuïc\", \"ABP Les Corts\", \"ABP Barcelona\"))\n",
    "df_filtered.show(4)"
   ]
  },
  {
   "cell_type": "markdown",
   "metadata": {},
   "source": [
    "## Airbnb Dataset"
   ]
  },
  {
   "cell_type": "code",
   "execution_count": 14,
   "metadata": {},
   "outputs": [
    {
     "name": "stdout",
     "output_type": "stream",
     "text": [
      "+--------+--------------------+--------------+------------+--------------------+--------------------+--------------------+--------------------+-------------------+---------------------+--------------------+--------------------+--------------------+--------------------+--------------------+--------------------+--------------------+-----------+--------------------+--------+--------------------+------------+----------+--------------------+--------------------+------------------+------------------+--------------------+--------------------+--------------------+------------------+-------------------+-------------------------+--------------------+--------------------+-----------------+----------------------+----------------------------+---------+---------+-------+---------+----------------+------------+-------+------------------+------------------+-------------+---------------+------------+---------+--------+----+--------+--------------------+-----------+-----+------------+-------------+----------------+------------+---------------+------------+--------------+--------------+----------------+----------------+---------------+---------------+---------------+----------------+---------------------+-----------------+------------+-----------+--------------------+----------------------+-------------------------+---------------------+---------------------------+----------------------+-------------------+-----------+------------------+-------------------+------------------------------+-----------------+--------------------+------------------+------------------+-----------------+\n",
      "|      id|         listing_url|     scrape_id|last_scraped|                name|             summary|               space|         description|experiences_offered|neighborhood_overview|               notes|             transit|              access|         interaction|         house_rules|       thumbnail_url|          medium_url|picture_url|      xl_picture_url| host_id|            host_url|   host_name|host_since|       host_location|          host_about|host_response_time|host_response_rate|host_acceptance_rate|  host_thumbnail_url|    host_picture_url|host_neighbourhood|host_listings_count|host_total_listings_count|  host_verifications|              street|    neighbourhood|neighbourhood_cleansed|neighbourhood_group_cleansed|     city|    state|zipcode|   market|  smart_location|country_code|country|          latitude|         longitude|property_type|      room_type|accommodates|bathrooms|bedrooms|beds|bed_type|           amenities|square_feet|price|weekly_price|monthly_price|security_deposit|cleaning_fee|guests_included|extra_people|minimum_nights|maximum_nights|calendar_updated|has_availability|availability_30|availability_60|availability_90|availability_365|calendar_last_scraped|number_of_reviews|first_review|last_review|review_scores_rating|review_scores_accuracy|review_scores_cleanliness|review_scores_checkin|review_scores_communication|review_scores_location|review_scores_value|    license|jurisdiction_names|cancellation_policy|calculated_host_listings_count|reviews_per_month|            features|   geolocation.lon|   geolocation.lat|__index_level_0__|\n",
      "+--------+--------------------+--------------+------------+--------------------+--------------------+--------------------+--------------------+-------------------+---------------------+--------------------+--------------------+--------------------+--------------------+--------------------+--------------------+--------------------+-----------+--------------------+--------+--------------------+------------+----------+--------------------+--------------------+------------------+------------------+--------------------+--------------------+--------------------+------------------+-------------------+-------------------------+--------------------+--------------------+-----------------+----------------------+----------------------------+---------+---------+-------+---------+----------------+------------+-------+------------------+------------------+-------------+---------------+------------+---------+--------+----+--------+--------------------+-----------+-----+------------+-------------+----------------+------------+---------------+------------+--------------+--------------+----------------+----------------+---------------+---------------+---------------+----------------+---------------------+-----------------+------------+-----------+--------------------+----------------------+-------------------------+---------------------+---------------------------+----------------------+-------------------+-----------+------------------+-------------------+------------------------------+-----------------+--------------------+------------------+------------------+-----------------+\n",
      "|14618223|https://www.airbn...|20170407214050|  2017-04-08|Piso cerca del Ca...|Acogedor y juveni...|Somos 2 chicos jó...|Acogedor y juveni...|               none|                 NULL|El precio publica...|Tenemos a 3' las ...|Tendrás acceso a ...|                NULL|                NULL|                NULL|                NULL|       NULL|                NULL|38925857|https://www.airbn...|      Javier|2015-07-19|Toledo, Castile-L...|Muy aficionado al...|      within a day|              60.0|                NULL|https://a0.muscac...|https://a0.muscac...|              NULL|                1.0|                      1.0|email, phone, rev...|Barcelona, CT 080...|             NULL|  la Maternitat i S...|                   Les Corts|Barcelona|       CT|  08028|Barcelona|Barcelona, Spain|          ES|  Spain|41.378150177192396| 2.122075545481956|    Apartment|   Private room|           2|      2.0|     1.0| 2.0|Real Bed|TV, Internet, Wir...|       NULL| 21.0|        NULL|         NULL|            NULL|        NULL|              1|           7|             1|          1125|       yesterday|            NULL|              0|              4|             34|             309|           2017-04-07|                1|  2016-08-22| 2016-08-22|               100.0|                  10.0|                     10.0|                 10.0|                       10.0|                  10.0|               10.0|       NULL|              NULL|           moderate|                             1|             0.13|Host Has Profile ...| 2.122075545481956|41.378150177192396|                0|\n",
      "|  476120|https://www.airbn...|20170407214050|  2017-04-08|Room @ Villa w/ b...|Spacious room wit...|Villa Maria was b...|Spacious room wit...|               none| Situated in a qui...|The Villa is loca...|Public transport ...|Kitchen, bathroom...|We are a small co...|The house is spac...|                NULL|                NULL|       NULL|                NULL| 1344607|https://www.airbn...|      Alexis|2011-10-28|Barcelona, Catalu...|Social entreprene...|a few days or more|               0.0|                NULL|https://a0.muscac...|https://a0.muscac...|            Sarrià|                1.0|                      1.0|email, phone, rev...|Sarrià, Barcelona...|           Sarrià|  Vallvidrera, el T...|         Sarrià-Sant Gervasi|Barcelona|Catalonia|  08017|Barcelona|Barcelona, Spain|          ES|  Spain|  41.4148655885311|2.1049250609405097|        Villa|   Private room|           2|      1.0|     1.0| 1.0|Real Bed|TV, Internet, Wir...|       3014| 37.0|       300.0|        950.0|           650.0|        60.0|              1|          15|            30|           180|     3 weeks ago|            NULL|             30|             60|             90|             365|           2017-04-08|               39|  2012-06-09| 2016-08-07|                94.0|                   9.0|                      9.0|                 10.0|                       10.0|                   9.0|                9.0|       NULL|              NULL|             strict|                             1|             0.66|Host Has Profile ...|2.1049250609405097|  41.4148655885311|                1|\n",
      "| 5417379|https://www.airbn...|20170407214050|  2017-04-08|Casa Tamarita nea...|Enjoy your stay i...|You will enjoy th...|Enjoy your stay i...|               none| Quiet neighborhoo...|         HUTB-008587|It's really close...|You get the two (...|I will make sure ...|Look forward to y...|https://a0.muscac...|https://a0.muscac...|       NULL|https://a0.muscac...| 2077174|https://www.airbn...|       Frank|2012-04-05|Tampa, Florida, U...|I love Barcelona,...|within a few hours|             100.0|                NULL|https://a0.muscac...|https://a0.muscac...| El Putget i Farró|                2.0|                      2.0|email, phone, fac...|El Putget i Farró...|El Putget i Farró|  el Putxet i el Farró|         Sarrià-Sant Gervasi|Barcelona|Catalunya|  08023|Barcelona|Barcelona, Spain|          ES|  Spain|41.410925919974986|2.1407658129075626|    Apartment|Entire home/apt|           5|      1.0|     2.0| 5.0|Real Bed|TV, Internet, Wir...|       NULL|109.0|       783.0|       1550.0|           245.0|        45.0|              4|          14|             2|          1125|           today|            NULL|              8|             25|             45|             291|           2017-04-08|               64|  2015-03-10| 2017-03-04|                88.0|                   9.0|                      9.0|                 10.0|                        9.0|                   9.0|                9.0|HUTB-008587|              NULL|             strict|                             2|             2.52|Host Has Profile ...|2.1407658129075626|41.410925919974986|                2|\n",
      "| 1703443|https://www.airbn...|20170407214050|  2017-04-08|Clean & Cozy Room...|Our apartment is ...|THE APARTMENT Thi...|Our apartment is ...|               none|                 NULL|**No check in's a...|                NULL|All common areas ...|We love interacti...|We hope our guest...|https://a0.muscac...|https://a0.muscac...|       NULL|https://a0.muscac...| 1675854|https://www.airbn...|Ella & Eneko|2012-01-30|Barcelona, Catalo...|Hi there! We are ...|      within a day|              79.0|                NULL|https://a0.muscac...|https://a0.muscac...|    Vila de Gràcia|                2.0|                      2.0|email, phone, fac...|Barcelona, Catalo...|   Vila de Gràcia|     la Vila de Gràcia|                      Gràcia|Barcelona|Catalonia|   NULL|Barcelona|Barcelona, Spain|          ES|  Spain| 41.40097836628479|2.1578867703448044|    Apartment|   Private room|           2|      1.0|     1.0| 1.0|Real Bed|Internet, Wireles...|       NULL| 29.0|        NULL|         NULL|            NULL|        15.0|              1|          10|             2|          1125|           today|            NULL|              5|             29|             34|              34|           2017-04-08|               78|  2014-01-04| 2017-03-18|                97.0|                  10.0|                      9.0|                 10.0|                       10.0|                  10.0|               10.0|       NULL|              NULL|             strict|                             1|             1.96|Host Is Superhost...|2.1578867703448044| 41.40097836628479|                3|\n",
      "+--------+--------------------+--------------+------------+--------------------+--------------------+--------------------+--------------------+-------------------+---------------------+--------------------+--------------------+--------------------+--------------------+--------------------+--------------------+--------------------+-----------+--------------------+--------+--------------------+------------+----------+--------------------+--------------------+------------------+------------------+--------------------+--------------------+--------------------+------------------+-------------------+-------------------------+--------------------+--------------------+-----------------+----------------------+----------------------------+---------+---------+-------+---------+----------------+------------+-------+------------------+------------------+-------------+---------------+------------+---------+--------+----+--------+--------------------+-----------+-----+------------+-------------+----------------+------------+---------------+------------+--------------+--------------+----------------+----------------+---------------+---------------+---------------+----------------+---------------------+-----------------+------------+-----------+--------------------+----------------------+-------------------------+---------------------+---------------------------+----------------------+-------------------+-----------+------------------+-------------------+------------------------------+-----------------+--------------------+------------------+------------------+-----------------+\n",
      "only showing top 4 rows\n",
      "\n"
     ]
    }
   ],
   "source": [
    "df_aribnb = spark.read \\\n",
    "  .format(\"jdbc\") \\\n",
    "  .option(\"url\", jdbc_url) \\\n",
    "  .option(\"driver\", driver) \\\n",
    "  .option(\"query\", \"SELECT * FROM df_airbnb_listings\") \\\n",
    "  .load()\n",
    "\n",
    "df_aribnb.show(4)"
   ]
  },
  {
   "cell_type": "code",
   "execution_count": 15,
   "metadata": {},
   "outputs": [
    {
     "name": "stdout",
     "output_type": "stream",
     "text": [
      "root\n",
      " |-- id: string (nullable = true)\n",
      " |-- listing_url: string (nullable = true)\n",
      " |-- scrape_id: string (nullable = true)\n",
      " |-- last_scraped: string (nullable = true)\n",
      " |-- name: string (nullable = true)\n",
      " |-- summary: string (nullable = true)\n",
      " |-- space: string (nullable = true)\n",
      " |-- description: string (nullable = true)\n",
      " |-- experiences_offered: string (nullable = true)\n",
      " |-- neighborhood_overview: string (nullable = true)\n",
      " |-- notes: string (nullable = true)\n",
      " |-- transit: string (nullable = true)\n",
      " |-- access: string (nullable = true)\n",
      " |-- interaction: string (nullable = true)\n",
      " |-- house_rules: string (nullable = true)\n",
      " |-- thumbnail_url: string (nullable = true)\n",
      " |-- medium_url: string (nullable = true)\n",
      " |-- picture_url: long (nullable = true)\n",
      " |-- xl_picture_url: string (nullable = true)\n",
      " |-- host_id: string (nullable = true)\n",
      " |-- host_url: string (nullable = true)\n",
      " |-- host_name: string (nullable = true)\n",
      " |-- host_since: string (nullable = true)\n",
      " |-- host_location: string (nullable = true)\n",
      " |-- host_about: string (nullable = true)\n",
      " |-- host_response_time: string (nullable = true)\n",
      " |-- host_response_rate: double (nullable = true)\n",
      " |-- host_acceptance_rate: long (nullable = true)\n",
      " |-- host_thumbnail_url: string (nullable = true)\n",
      " |-- host_picture_url: string (nullable = true)\n",
      " |-- host_neighbourhood: string (nullable = true)\n",
      " |-- host_listings_count: double (nullable = true)\n",
      " |-- host_total_listings_count: double (nullable = true)\n",
      " |-- host_verifications: string (nullable = true)\n",
      " |-- street: string (nullable = true)\n",
      " |-- neighbourhood: string (nullable = true)\n",
      " |-- neighbourhood_cleansed: string (nullable = true)\n",
      " |-- neighbourhood_group_cleansed: string (nullable = true)\n",
      " |-- city: string (nullable = true)\n",
      " |-- state: string (nullable = true)\n",
      " |-- zipcode: string (nullable = true)\n",
      " |-- market: string (nullable = true)\n",
      " |-- smart_location: string (nullable = true)\n",
      " |-- country_code: string (nullable = true)\n",
      " |-- country: string (nullable = true)\n",
      " |-- latitude: string (nullable = true)\n",
      " |-- longitude: string (nullable = true)\n",
      " |-- property_type: string (nullable = true)\n",
      " |-- room_type: string (nullable = true)\n",
      " |-- accommodates: decimal(20,0) (nullable = true)\n",
      " |-- bathrooms: double (nullable = true)\n",
      " |-- bedrooms: double (nullable = true)\n",
      " |-- beds: double (nullable = true)\n",
      " |-- bed_type: string (nullable = true)\n",
      " |-- amenities: string (nullable = true)\n",
      " |-- square_feet: string (nullable = true)\n",
      " |-- price: double (nullable = true)\n",
      " |-- weekly_price: double (nullable = true)\n",
      " |-- monthly_price: double (nullable = true)\n",
      " |-- security_deposit: double (nullable = true)\n",
      " |-- cleaning_fee: double (nullable = true)\n",
      " |-- guests_included: decimal(20,0) (nullable = true)\n",
      " |-- extra_people: decimal(20,0) (nullable = true)\n",
      " |-- minimum_nights: decimal(20,0) (nullable = true)\n",
      " |-- maximum_nights: decimal(20,0) (nullable = true)\n",
      " |-- calendar_updated: string (nullable = true)\n",
      " |-- has_availability: long (nullable = true)\n",
      " |-- availability_30: decimal(20,0) (nullable = true)\n",
      " |-- availability_60: decimal(20,0) (nullable = true)\n",
      " |-- availability_90: decimal(20,0) (nullable = true)\n",
      " |-- availability_365: decimal(20,0) (nullable = true)\n",
      " |-- calendar_last_scraped: string (nullable = true)\n",
      " |-- number_of_reviews: decimal(20,0) (nullable = true)\n",
      " |-- first_review: string (nullable = true)\n",
      " |-- last_review: string (nullable = true)\n",
      " |-- review_scores_rating: double (nullable = true)\n",
      " |-- review_scores_accuracy: double (nullable = true)\n",
      " |-- review_scores_cleanliness: double (nullable = true)\n",
      " |-- review_scores_checkin: double (nullable = true)\n",
      " |-- review_scores_communication: double (nullable = true)\n",
      " |-- review_scores_location: double (nullable = true)\n",
      " |-- review_scores_value: double (nullable = true)\n",
      " |-- license: string (nullable = true)\n",
      " |-- jurisdiction_names: long (nullable = true)\n",
      " |-- cancellation_policy: string (nullable = true)\n",
      " |-- calculated_host_listings_count: decimal(20,0) (nullable = true)\n",
      " |-- reviews_per_month: double (nullable = true)\n",
      " |-- features: string (nullable = true)\n",
      " |-- geolocation.lon: double (nullable = true)\n",
      " |-- geolocation.lat: double (nullable = true)\n",
      " |-- __index_level_0__: decimal(20,0) (nullable = true)\n",
      "\n"
     ]
    }
   ],
   "source": [
    "df_aribnb.printSchema()"
   ]
  },
  {
   "cell_type": "code",
   "execution_count": 16,
   "metadata": {},
   "outputs": [
    {
     "ename": "AnalysisException",
     "evalue": "[UNRESOLVED_COLUMN.WITH_SUGGESTION] A column or function parameter with name `geolocation`.`lon` cannot be resolved. Did you mean one of the following? [`geolocation.lon`, `geolocation.lat`, `host_location`, `description`, `interaction`].;\n'Aggregate [map(cast(count as string), cast(count(id#3200) as string), cast(mean as string), cast(avg(try_cast(id#3200 as double)) as string), cast(stddev as string), cast(stddev(try_cast(id#3200 as double)) as string), cast(min as string), cast(min(id#3200) as string), cast(max as string), cast(max(id#3200) as string)) AS id#3751, map(cast(count as string), cast(count(listing_url#3201) as string), cast(mean as string), cast(avg(try_cast(listing_url#3201 as double)) as string), cast(stddev as string), cast(stddev(try_cast(listing_url#3201 as double)) as string), cast(min as string), cast(min(listing_url#3201) as string), cast(max as string), cast(max(listing_url#3201) as string)) AS listing_url#3756, map(cast(count as string), cast(count(scrape_id#3202) as string), cast(mean as string), cast(avg(try_cast(scrape_id#3202 as double)) as string), cast(stddev as string), cast(stddev(try_cast(scrape_id#3202 as double)) as string), cast(min as string), cast(min(scrape_id#3202) as string), cast(max as string), cast(max(scrape_id#3202) as string)) AS scrape_id#3761, map(cast(count as string), cast(count(last_scraped#3203) as string), cast(mean as string), cast(avg(try_cast(last_scraped#3203 as double)) as string), cast(stddev as string), cast(stddev(try_cast(last_scraped#3203 as double)) as string), cast(min as string), cast(min(last_scraped#3203) as string), cast(max as string), cast(max(last_scraped#3203) as string)) AS last_scraped#3766, map(cast(count as string), cast(count(name#3204) as string), cast(mean as string), cast(avg(try_cast(name#3204 as double)) as string), cast(stddev as string), cast(stddev(try_cast(name#3204 as double)) as string), cast(min as string), cast(min(name#3204) as string), cast(max as string), cast(max(name#3204) as string)) AS name#3771, map(cast(count as string), cast(count(summary#3205) as string), cast(mean as string), cast(avg(try_cast(summary#3205 as double)) as string), cast(stddev as string), cast(stddev(try_cast(summary#3205 as double)) as string), cast(min as string), cast(min(summary#3205) as string), cast(max as string), cast(max(summary#3205) as string)) AS summary#3776, map(cast(count as string), cast(count(space#3206) as string), cast(mean as string), cast(avg(try_cast(space#3206 as double)) as string), cast(stddev as string), cast(stddev(try_cast(space#3206 as double)) as string), cast(min as string), cast(min(space#3206) as string), cast(max as string), cast(max(space#3206) as string)) AS space#3781, map(cast(count as string), cast(count(description#3207) as string), cast(mean as string), cast(avg(try_cast(description#3207 as double)) as string), cast(stddev as string), cast(stddev(try_cast(description#3207 as double)) as string), cast(min as string), cast(min(description#3207) as string), cast(max as string), cast(max(description#3207) as string)) AS description#3786, map(cast(count as string), cast(count(experiences_offered#3208) as string), cast(mean as string), cast(avg(try_cast(experiences_offered#3208 as double)) as string), cast(stddev as string), cast(stddev(try_cast(experiences_offered#3208 as double)) as string), cast(min as string), cast(min(experiences_offered#3208) as string), cast(max as string), cast(max(experiences_offered#3208) as string)) AS experiences_offered#3791, map(cast(count as string), cast(count(neighborhood_overview#3209) as string), cast(mean as string), cast(avg(try_cast(neighborhood_overview#3209 as double)) as string), cast(stddev as string), cast(stddev(try_cast(neighborhood_overview#3209 as double)) as string), cast(min as string), cast(min(neighborhood_overview#3209) as string), cast(max as string), cast(max(neighborhood_overview#3209) as string)) AS neighborhood_overview#3796, map(cast(count as string), cast(count(notes#3210) as string), cast(mean as string), cast(avg(try_cast(notes#3210 as double)) as string), cast(stddev as string), cast(stddev(try_cast(notes#3210 as double)) as string), cast(min as string), cast(min(notes#3210) as string), cast(max as string), cast(max(notes#3210) as string)) AS notes#3801, map(cast(count as string), cast(count(transit#3211) as string), cast(mean as string), cast(avg(try_cast(transit#3211 as double)) as string), cast(stddev as string), cast(stddev(try_cast(transit#3211 as double)) as string), cast(min as string), cast(min(transit#3211) as string), cast(max as string), cast(max(transit#3211) as string)) AS transit#3806, map(cast(count as string), cast(count(access#3212) as string), cast(mean as string), cast(avg(try_cast(access#3212 as double)) as string), cast(stddev as string), cast(stddev(try_cast(access#3212 as double)) as string), cast(min as string), cast(min(access#3212) as string), cast(max as string), cast(max(access#3212) as string)) AS access#3811, map(cast(count as string), cast(count(interaction#3213) as string), cast(mean as string), cast(avg(try_cast(interaction#3213 as double)) as string), cast(stddev as string), cast(stddev(try_cast(interaction#3213 as double)) as string), cast(min as string), cast(min(interaction#3213) as string), cast(max as string), cast(max(interaction#3213) as string)) AS interaction#3816, map(cast(count as string), cast(count(house_rules#3214) as string), cast(mean as string), cast(avg(try_cast(house_rules#3214 as double)) as string), cast(stddev as string), cast(stddev(try_cast(house_rules#3214 as double)) as string), cast(min as string), cast(min(house_rules#3214) as string), cast(max as string), cast(max(house_rules#3214) as string)) AS house_rules#3821, map(cast(count as string), cast(count(thumbnail_url#3215) as string), cast(mean as string), cast(avg(try_cast(thumbnail_url#3215 as double)) as string), cast(stddev as string), cast(stddev(try_cast(thumbnail_url#3215 as double)) as string), cast(min as string), cast(min(thumbnail_url#3215) as string), cast(max as string), cast(max(thumbnail_url#3215) as string)) AS thumbnail_url#3826, map(cast(count as string), cast(count(medium_url#3216) as string), cast(mean as string), cast(avg(try_cast(medium_url#3216 as double)) as string), cast(stddev as string), cast(stddev(try_cast(medium_url#3216 as double)) as string), cast(min as string), cast(min(medium_url#3216) as string), cast(max as string), cast(max(medium_url#3216) as string)) AS medium_url#3831, map(cast(count as string), cast(count(picture_url#3217L) as string), cast(mean as string), cast(avg(picture_url#3217L) as string), cast(stddev as string), cast(stddev(cast(picture_url#3217L as double)) as string), cast(min as string), cast(min(picture_url#3217L) as string), cast(max as string), cast(max(picture_url#3217L) as string)) AS picture_url#3836, map(cast(count as string), cast(count(xl_picture_url#3218) as string), cast(mean as string), cast(avg(try_cast(xl_picture_url#3218 as double)) as string), cast(stddev as string), cast(stddev(try_cast(xl_picture_url#3218 as double)) as string), cast(min as string), cast(min(xl_picture_url#3218) as string), cast(max as string), cast(max(xl_picture_url#3218) as string)) AS xl_picture_url#3841, map(cast(count as string), cast(count(host_id#3219) as string), cast(mean as string), cast(avg(try_cast(host_id#3219 as double)) as string), cast(stddev as string), cast(stddev(try_cast(host_id#3219 as double)) as string), cast(min as string), cast(min(host_id#3219) as string), cast(max as string), cast(max(host_id#3219) as string)) AS host_id#3846, map(cast(count as string), cast(count(host_url#3220) as string), cast(mean as string), cast(avg(try_cast(host_url#3220 as double)) as string), cast(stddev as string), cast(stddev(try_cast(host_url#3220 as double)) as string), cast(min as string), cast(min(host_url#3220) as string), cast(max as string), cast(max(host_url#3220) as string)) AS host_url#3851, map(cast(count as string), cast(count(host_name#3221) as string), cast(mean as string), cast(avg(try_cast(host_name#3221 as double)) as string), cast(stddev as string), cast(stddev(try_cast(host_name#3221 as double)) as string), cast(min as string), cast(min(host_name#3221) as string), cast(max as string), cast(max(host_name#3221) as string)) AS host_name#3856, map(cast(count as string), cast(count(host_since#3222) as string), cast(mean as string), cast(avg(try_cast(host_since#3222 as double)) as string), cast(stddev as string), cast(stddev(try_cast(host_since#3222 as double)) as string), cast(min as string), cast(min(host_since#3222) as string), cast(max as string), cast(max(host_since#3222) as string)) AS host_since#3861, map(cast(count as string), cast(count(host_location#3223) as string), cast(mean as string), cast(avg(try_cast(host_location#3223 as double)) as string), cast(stddev as string), cast(stddev(try_cast(host_location#3223 as double)) as string), cast(min as string), cast(min(host_location#3223) as string), cast(max as string), cast(max(host_location#3223) as string)) AS host_location#3866, ... 67 more fields]\n+- Relation [id#3200,listing_url#3201,scrape_id#3202,last_scraped#3203,name#3204,summary#3205,space#3206,description#3207,experiences_offered#3208,neighborhood_overview#3209,notes#3210,transit#3211,access#3212,interaction#3213,house_rules#3214,thumbnail_url#3215,medium_url#3216,picture_url#3217L,xl_picture_url#3218,host_id#3219,host_url#3220,host_name#3221,host_since#3222,host_location#3223,... 67 more fields] JDBCRelation((SELECT * FROM df_airbnb_listings) SPARK_GEN_SUBQ_36) [numPartitions=1]\n",
     "output_type": "error",
     "traceback": [
      "\u001b[0;31m---------------------------------------------------------------------------\u001b[0m",
      "\u001b[0;31mAnalysisException\u001b[0m                         Traceback (most recent call last)",
      "Cell \u001b[0;32mIn[16], line 1\u001b[0m\n\u001b[0;32m----> 1\u001b[0m \u001b[43mdf_aribnb\u001b[49m\u001b[38;5;241;43m.\u001b[39;49m\u001b[43mdescribe\u001b[49m\u001b[43m(\u001b[49m\u001b[43m)\u001b[49m\u001b[38;5;241m.\u001b[39mshow()\n",
      "File \u001b[0;32m~/env/lib/python3.12/site-packages/pyspark/sql/dataframe.py:2854\u001b[0m, in \u001b[0;36mDataFrame.describe\u001b[0;34m(self, *cols)\u001b[0m\n\u001b[1;32m   2852\u001b[0m \u001b[38;5;28;01mif\u001b[39;00m \u001b[38;5;28mlen\u001b[39m(cols) \u001b[38;5;241m==\u001b[39m \u001b[38;5;241m1\u001b[39m \u001b[38;5;129;01mand\u001b[39;00m \u001b[38;5;28misinstance\u001b[39m(cols[\u001b[38;5;241m0\u001b[39m], \u001b[38;5;28mlist\u001b[39m):\n\u001b[1;32m   2853\u001b[0m     cols \u001b[38;5;241m=\u001b[39m cols[\u001b[38;5;241m0\u001b[39m]  \u001b[38;5;66;03m# type: ignore[assignment]\u001b[39;00m\n\u001b[0;32m-> 2854\u001b[0m jdf \u001b[38;5;241m=\u001b[39m \u001b[38;5;28;43mself\u001b[39;49m\u001b[38;5;241;43m.\u001b[39;49m\u001b[43m_jdf\u001b[49m\u001b[38;5;241;43m.\u001b[39;49m\u001b[43mdescribe\u001b[49m\u001b[43m(\u001b[49m\u001b[38;5;28;43mself\u001b[39;49m\u001b[38;5;241;43m.\u001b[39;49m\u001b[43m_jseq\u001b[49m\u001b[43m(\u001b[49m\u001b[43mcols\u001b[49m\u001b[43m)\u001b[49m\u001b[43m)\u001b[49m\n\u001b[1;32m   2855\u001b[0m \u001b[38;5;28;01mreturn\u001b[39;00m DataFrame(jdf, \u001b[38;5;28mself\u001b[39m\u001b[38;5;241m.\u001b[39msparkSession)\n",
      "File \u001b[0;32m~/env/lib/python3.12/site-packages/py4j/java_gateway.py:1322\u001b[0m, in \u001b[0;36mJavaMember.__call__\u001b[0;34m(self, *args)\u001b[0m\n\u001b[1;32m   1316\u001b[0m command \u001b[38;5;241m=\u001b[39m proto\u001b[38;5;241m.\u001b[39mCALL_COMMAND_NAME \u001b[38;5;241m+\u001b[39m\\\n\u001b[1;32m   1317\u001b[0m     \u001b[38;5;28mself\u001b[39m\u001b[38;5;241m.\u001b[39mcommand_header \u001b[38;5;241m+\u001b[39m\\\n\u001b[1;32m   1318\u001b[0m     args_command \u001b[38;5;241m+\u001b[39m\\\n\u001b[1;32m   1319\u001b[0m     proto\u001b[38;5;241m.\u001b[39mEND_COMMAND_PART\n\u001b[1;32m   1321\u001b[0m answer \u001b[38;5;241m=\u001b[39m \u001b[38;5;28mself\u001b[39m\u001b[38;5;241m.\u001b[39mgateway_client\u001b[38;5;241m.\u001b[39msend_command(command)\n\u001b[0;32m-> 1322\u001b[0m return_value \u001b[38;5;241m=\u001b[39m \u001b[43mget_return_value\u001b[49m\u001b[43m(\u001b[49m\n\u001b[1;32m   1323\u001b[0m \u001b[43m    \u001b[49m\u001b[43manswer\u001b[49m\u001b[43m,\u001b[49m\u001b[43m \u001b[49m\u001b[38;5;28;43mself\u001b[39;49m\u001b[38;5;241;43m.\u001b[39;49m\u001b[43mgateway_client\u001b[49m\u001b[43m,\u001b[49m\u001b[43m \u001b[49m\u001b[38;5;28;43mself\u001b[39;49m\u001b[38;5;241;43m.\u001b[39;49m\u001b[43mtarget_id\u001b[49m\u001b[43m,\u001b[49m\u001b[43m \u001b[49m\u001b[38;5;28;43mself\u001b[39;49m\u001b[38;5;241;43m.\u001b[39;49m\u001b[43mname\u001b[49m\u001b[43m)\u001b[49m\n\u001b[1;32m   1325\u001b[0m \u001b[38;5;28;01mfor\u001b[39;00m temp_arg \u001b[38;5;129;01min\u001b[39;00m temp_args:\n\u001b[1;32m   1326\u001b[0m     \u001b[38;5;28;01mif\u001b[39;00m \u001b[38;5;28mhasattr\u001b[39m(temp_arg, \u001b[38;5;124m\"\u001b[39m\u001b[38;5;124m_detach\u001b[39m\u001b[38;5;124m\"\u001b[39m):\n",
      "File \u001b[0;32m~/env/lib/python3.12/site-packages/pyspark/errors/exceptions/captured.py:185\u001b[0m, in \u001b[0;36mcapture_sql_exception.<locals>.deco\u001b[0;34m(*a, **kw)\u001b[0m\n\u001b[1;32m    181\u001b[0m converted \u001b[38;5;241m=\u001b[39m convert_exception(e\u001b[38;5;241m.\u001b[39mjava_exception)\n\u001b[1;32m    182\u001b[0m \u001b[38;5;28;01mif\u001b[39;00m \u001b[38;5;129;01mnot\u001b[39;00m \u001b[38;5;28misinstance\u001b[39m(converted, UnknownException):\n\u001b[1;32m    183\u001b[0m     \u001b[38;5;66;03m# Hide where the exception came from that shows a non-Pythonic\u001b[39;00m\n\u001b[1;32m    184\u001b[0m     \u001b[38;5;66;03m# JVM exception message.\u001b[39;00m\n\u001b[0;32m--> 185\u001b[0m     \u001b[38;5;28;01mraise\u001b[39;00m converted \u001b[38;5;28;01mfrom\u001b[39;00m \u001b[38;5;28;01mNone\u001b[39;00m\n\u001b[1;32m    186\u001b[0m \u001b[38;5;28;01melse\u001b[39;00m:\n\u001b[1;32m    187\u001b[0m     \u001b[38;5;28;01mraise\u001b[39;00m\n",
      "\u001b[0;31mAnalysisException\u001b[0m: [UNRESOLVED_COLUMN.WITH_SUGGESTION] A column or function parameter with name `geolocation`.`lon` cannot be resolved. Did you mean one of the following? [`geolocation.lon`, `geolocation.lat`, `host_location`, `description`, `interaction`].;\n'Aggregate [map(cast(count as string), cast(count(id#3200) as string), cast(mean as string), cast(avg(try_cast(id#3200 as double)) as string), cast(stddev as string), cast(stddev(try_cast(id#3200 as double)) as string), cast(min as string), cast(min(id#3200) as string), cast(max as string), cast(max(id#3200) as string)) AS id#3751, map(cast(count as string), cast(count(listing_url#3201) as string), cast(mean as string), cast(avg(try_cast(listing_url#3201 as double)) as string), cast(stddev as string), cast(stddev(try_cast(listing_url#3201 as double)) as string), cast(min as string), cast(min(listing_url#3201) as string), cast(max as string), cast(max(listing_url#3201) as string)) AS listing_url#3756, map(cast(count as string), cast(count(scrape_id#3202) as string), cast(mean as string), cast(avg(try_cast(scrape_id#3202 as double)) as string), cast(stddev as string), cast(stddev(try_cast(scrape_id#3202 as double)) as string), cast(min as string), cast(min(scrape_id#3202) as string), cast(max as string), cast(max(scrape_id#3202) as string)) AS scrape_id#3761, map(cast(count as string), cast(count(last_scraped#3203) as string), cast(mean as string), cast(avg(try_cast(last_scraped#3203 as double)) as string), cast(stddev as string), cast(stddev(try_cast(last_scraped#3203 as double)) as string), cast(min as string), cast(min(last_scraped#3203) as string), cast(max as string), cast(max(last_scraped#3203) as string)) AS last_scraped#3766, map(cast(count as string), cast(count(name#3204) as string), cast(mean as string), cast(avg(try_cast(name#3204 as double)) as string), cast(stddev as string), cast(stddev(try_cast(name#3204 as double)) as string), cast(min as string), cast(min(name#3204) as string), cast(max as string), cast(max(name#3204) as string)) AS name#3771, map(cast(count as string), cast(count(summary#3205) as string), cast(mean as string), cast(avg(try_cast(summary#3205 as double)) as string), cast(stddev as string), cast(stddev(try_cast(summary#3205 as double)) as string), cast(min as string), cast(min(summary#3205) as string), cast(max as string), cast(max(summary#3205) as string)) AS summary#3776, map(cast(count as string), cast(count(space#3206) as string), cast(mean as string), cast(avg(try_cast(space#3206 as double)) as string), cast(stddev as string), cast(stddev(try_cast(space#3206 as double)) as string), cast(min as string), cast(min(space#3206) as string), cast(max as string), cast(max(space#3206) as string)) AS space#3781, map(cast(count as string), cast(count(description#3207) as string), cast(mean as string), cast(avg(try_cast(description#3207 as double)) as string), cast(stddev as string), cast(stddev(try_cast(description#3207 as double)) as string), cast(min as string), cast(min(description#3207) as string), cast(max as string), cast(max(description#3207) as string)) AS description#3786, map(cast(count as string), cast(count(experiences_offered#3208) as string), cast(mean as string), cast(avg(try_cast(experiences_offered#3208 as double)) as string), cast(stddev as string), cast(stddev(try_cast(experiences_offered#3208 as double)) as string), cast(min as string), cast(min(experiences_offered#3208) as string), cast(max as string), cast(max(experiences_offered#3208) as string)) AS experiences_offered#3791, map(cast(count as string), cast(count(neighborhood_overview#3209) as string), cast(mean as string), cast(avg(try_cast(neighborhood_overview#3209 as double)) as string), cast(stddev as string), cast(stddev(try_cast(neighborhood_overview#3209 as double)) as string), cast(min as string), cast(min(neighborhood_overview#3209) as string), cast(max as string), cast(max(neighborhood_overview#3209) as string)) AS neighborhood_overview#3796, map(cast(count as string), cast(count(notes#3210) as string), cast(mean as string), cast(avg(try_cast(notes#3210 as double)) as string), cast(stddev as string), cast(stddev(try_cast(notes#3210 as double)) as string), cast(min as string), cast(min(notes#3210) as string), cast(max as string), cast(max(notes#3210) as string)) AS notes#3801, map(cast(count as string), cast(count(transit#3211) as string), cast(mean as string), cast(avg(try_cast(transit#3211 as double)) as string), cast(stddev as string), cast(stddev(try_cast(transit#3211 as double)) as string), cast(min as string), cast(min(transit#3211) as string), cast(max as string), cast(max(transit#3211) as string)) AS transit#3806, map(cast(count as string), cast(count(access#3212) as string), cast(mean as string), cast(avg(try_cast(access#3212 as double)) as string), cast(stddev as string), cast(stddev(try_cast(access#3212 as double)) as string), cast(min as string), cast(min(access#3212) as string), cast(max as string), cast(max(access#3212) as string)) AS access#3811, map(cast(count as string), cast(count(interaction#3213) as string), cast(mean as string), cast(avg(try_cast(interaction#3213 as double)) as string), cast(stddev as string), cast(stddev(try_cast(interaction#3213 as double)) as string), cast(min as string), cast(min(interaction#3213) as string), cast(max as string), cast(max(interaction#3213) as string)) AS interaction#3816, map(cast(count as string), cast(count(house_rules#3214) as string), cast(mean as string), cast(avg(try_cast(house_rules#3214 as double)) as string), cast(stddev as string), cast(stddev(try_cast(house_rules#3214 as double)) as string), cast(min as string), cast(min(house_rules#3214) as string), cast(max as string), cast(max(house_rules#3214) as string)) AS house_rules#3821, map(cast(count as string), cast(count(thumbnail_url#3215) as string), cast(mean as string), cast(avg(try_cast(thumbnail_url#3215 as double)) as string), cast(stddev as string), cast(stddev(try_cast(thumbnail_url#3215 as double)) as string), cast(min as string), cast(min(thumbnail_url#3215) as string), cast(max as string), cast(max(thumbnail_url#3215) as string)) AS thumbnail_url#3826, map(cast(count as string), cast(count(medium_url#3216) as string), cast(mean as string), cast(avg(try_cast(medium_url#3216 as double)) as string), cast(stddev as string), cast(stddev(try_cast(medium_url#3216 as double)) as string), cast(min as string), cast(min(medium_url#3216) as string), cast(max as string), cast(max(medium_url#3216) as string)) AS medium_url#3831, map(cast(count as string), cast(count(picture_url#3217L) as string), cast(mean as string), cast(avg(picture_url#3217L) as string), cast(stddev as string), cast(stddev(cast(picture_url#3217L as double)) as string), cast(min as string), cast(min(picture_url#3217L) as string), cast(max as string), cast(max(picture_url#3217L) as string)) AS picture_url#3836, map(cast(count as string), cast(count(xl_picture_url#3218) as string), cast(mean as string), cast(avg(try_cast(xl_picture_url#3218 as double)) as string), cast(stddev as string), cast(stddev(try_cast(xl_picture_url#3218 as double)) as string), cast(min as string), cast(min(xl_picture_url#3218) as string), cast(max as string), cast(max(xl_picture_url#3218) as string)) AS xl_picture_url#3841, map(cast(count as string), cast(count(host_id#3219) as string), cast(mean as string), cast(avg(try_cast(host_id#3219 as double)) as string), cast(stddev as string), cast(stddev(try_cast(host_id#3219 as double)) as string), cast(min as string), cast(min(host_id#3219) as string), cast(max as string), cast(max(host_id#3219) as string)) AS host_id#3846, map(cast(count as string), cast(count(host_url#3220) as string), cast(mean as string), cast(avg(try_cast(host_url#3220 as double)) as string), cast(stddev as string), cast(stddev(try_cast(host_url#3220 as double)) as string), cast(min as string), cast(min(host_url#3220) as string), cast(max as string), cast(max(host_url#3220) as string)) AS host_url#3851, map(cast(count as string), cast(count(host_name#3221) as string), cast(mean as string), cast(avg(try_cast(host_name#3221 as double)) as string), cast(stddev as string), cast(stddev(try_cast(host_name#3221 as double)) as string), cast(min as string), cast(min(host_name#3221) as string), cast(max as string), cast(max(host_name#3221) as string)) AS host_name#3856, map(cast(count as string), cast(count(host_since#3222) as string), cast(mean as string), cast(avg(try_cast(host_since#3222 as double)) as string), cast(stddev as string), cast(stddev(try_cast(host_since#3222 as double)) as string), cast(min as string), cast(min(host_since#3222) as string), cast(max as string), cast(max(host_since#3222) as string)) AS host_since#3861, map(cast(count as string), cast(count(host_location#3223) as string), cast(mean as string), cast(avg(try_cast(host_location#3223 as double)) as string), cast(stddev as string), cast(stddev(try_cast(host_location#3223 as double)) as string), cast(min as string), cast(min(host_location#3223) as string), cast(max as string), cast(max(host_location#3223) as string)) AS host_location#3866, ... 67 more fields]\n+- Relation [id#3200,listing_url#3201,scrape_id#3202,last_scraped#3203,name#3204,summary#3205,space#3206,description#3207,experiences_offered#3208,neighborhood_overview#3209,notes#3210,transit#3211,access#3212,interaction#3213,house_rules#3214,thumbnail_url#3215,medium_url#3216,picture_url#3217L,xl_picture_url#3218,host_id#3219,host_url#3220,host_name#3221,host_since#3222,host_location#3223,... 67 more fields] JDBCRelation((SELECT * FROM df_airbnb_listings) SPARK_GEN_SUBQ_36) [numPartitions=1]\n"
     ]
    }
   ],
   "source": [
    "df_aribnb.describe().show()"
   ]
  },
  {
   "cell_type": "code",
   "execution_count": 17,
   "metadata": {},
   "outputs": [
    {
     "ename": "AnalysisException",
     "evalue": "[UNRESOLVED_COLUMN.WITH_SUGGESTION] A column or function parameter with name `any` cannot be resolved. Did you mean one of the following? [`id`, `city`, `name`, `beds`, `notes`].;\n'Aggregate [count(CASE WHEN isnan('any) THEN any END) AS any#5783, count(CASE WHEN isnan('num_mes) THEN num_mes END) AS num_mes#5785, count(CASE WHEN isnan('nom_mes) THEN nom_mes END) AS nom_mes#5787, count(CASE WHEN isnan('regio_policial) THEN regio_policial END) AS regio_policial#5789, count(CASE WHEN isnan('area_basica_policial) THEN area_basica_policial END) AS area_basica_policial#5791, count(CASE WHEN isnan('provincia) THEN provincia END) AS provincia#5793, count(CASE WHEN isnan('comarca) THEN comarca END) AS comarca#5795, count(CASE WHEN isnan('municipi) THEN municipi END) AS municipi#5797, count(CASE WHEN isnan('tipus_de_lloc_dels_fets) THEN tipus_de_lloc_dels_fets END) AS tipus_de_lloc_dels_fets#5799, count(CASE WHEN isnan('canal_dels_fets) THEN canal_dels_fets END) AS canal_dels_fets#5801, count(CASE WHEN isnan('tipus_de_fet) THEN tipus_de_fet END) AS tipus_de_fet#5803, count(CASE WHEN isnan('titol_del_fet_codi_penal) THEN titol_del_fet_codi_penal END) AS titol_del_fet_codi_penal#5805, count(CASE WHEN isnan('tipus_de_fet_codi_penal) THEN tipus_de_fet_codi_penal END) AS tipus_de_fet_codi_penal#5807, count(CASE WHEN isnan('ambit_fet) THEN ambit_fet END) AS ambit_fet#5809, count(CASE WHEN isnan('nombre_fets_o_infraccions) THEN nombre_fets_o_infraccions END) AS nombre_fets_o_infraccions#5811, count(CASE WHEN isnan('nombre_victimes) THEN nombre_victimes END) AS nombre_victimes#5813]\n+- Relation [id#3200,listing_url#3201,scrape_id#3202,last_scraped#3203,name#3204,summary#3205,space#3206,description#3207,experiences_offered#3208,neighborhood_overview#3209,notes#3210,transit#3211,access#3212,interaction#3213,house_rules#3214,thumbnail_url#3215,medium_url#3216,picture_url#3217L,xl_picture_url#3218,host_id#3219,host_url#3220,host_name#3221,host_since#3222,host_location#3223,... 67 more fields] JDBCRelation((SELECT * FROM df_airbnb_listings) SPARK_GEN_SUBQ_36) [numPartitions=1]\n",
     "output_type": "error",
     "traceback": [
      "\u001b[0;31m---------------------------------------------------------------------------\u001b[0m",
      "\u001b[0;31mAnalysisException\u001b[0m                         Traceback (most recent call last)",
      "Cell \u001b[0;32mIn[17], line 1\u001b[0m\n\u001b[0;32m----> 1\u001b[0m nan_counts \u001b[38;5;241m=\u001b[39m \u001b[43mdf_aribnb\u001b[49m\u001b[38;5;241;43m.\u001b[39;49m\u001b[43mselect\u001b[49m\u001b[43m(\u001b[49m\u001b[43m[\u001b[49m\u001b[43mcount\u001b[49m\u001b[43m(\u001b[49m\u001b[43mwhen\u001b[49m\u001b[43m(\u001b[49m\u001b[43misnan\u001b[49m\u001b[43m(\u001b[49m\u001b[43mc\u001b[49m\u001b[43m)\u001b[49m\u001b[43m,\u001b[49m\u001b[43m \u001b[49m\u001b[43mc\u001b[49m\u001b[43m)\u001b[49m\u001b[43m)\u001b[49m\u001b[38;5;241;43m.\u001b[39;49m\u001b[43malias\u001b[49m\u001b[43m(\u001b[49m\u001b[43mc\u001b[49m\u001b[43m)\u001b[49m\u001b[43m \u001b[49m\u001b[38;5;28;43;01mfor\u001b[39;49;00m\u001b[43m \u001b[49m\u001b[43mc\u001b[49m\u001b[43m \u001b[49m\u001b[38;5;129;43;01min\u001b[39;49;00m\u001b[43m \u001b[49m\u001b[43mdf\u001b[49m\u001b[38;5;241;43m.\u001b[39;49m\u001b[43mcolumns\u001b[49m\u001b[43m]\u001b[49m\u001b[43m)\u001b[49m\n\u001b[1;32m      2\u001b[0m nan_counts\u001b[38;5;241m.\u001b[39mshow()\n",
      "File \u001b[0;32m~/env/lib/python3.12/site-packages/pyspark/sql/dataframe.py:3227\u001b[0m, in \u001b[0;36mDataFrame.select\u001b[0;34m(self, *cols)\u001b[0m\n\u001b[1;32m   3182\u001b[0m \u001b[38;5;28;01mdef\u001b[39;00m \u001b[38;5;21mselect\u001b[39m(\u001b[38;5;28mself\u001b[39m, \u001b[38;5;241m*\u001b[39mcols: \u001b[38;5;124m\"\u001b[39m\u001b[38;5;124mColumnOrName\u001b[39m\u001b[38;5;124m\"\u001b[39m) \u001b[38;5;241m-\u001b[39m\u001b[38;5;241m>\u001b[39m \u001b[38;5;124m\"\u001b[39m\u001b[38;5;124mDataFrame\u001b[39m\u001b[38;5;124m\"\u001b[39m:  \u001b[38;5;66;03m# type: ignore[misc]\u001b[39;00m\n\u001b[1;32m   3183\u001b[0m \u001b[38;5;250m    \u001b[39m\u001b[38;5;124;03m\"\"\"Projects a set of expressions and returns a new :class:`DataFrame`.\u001b[39;00m\n\u001b[1;32m   3184\u001b[0m \n\u001b[1;32m   3185\u001b[0m \u001b[38;5;124;03m    .. versionadded:: 1.3.0\u001b[39;00m\n\u001b[0;32m   (...)\u001b[0m\n\u001b[1;32m   3225\u001b[0m \u001b[38;5;124;03m    +-----+---+\u001b[39;00m\n\u001b[1;32m   3226\u001b[0m \u001b[38;5;124;03m    \"\"\"\u001b[39;00m\n\u001b[0;32m-> 3227\u001b[0m     jdf \u001b[38;5;241m=\u001b[39m \u001b[38;5;28;43mself\u001b[39;49m\u001b[38;5;241;43m.\u001b[39;49m\u001b[43m_jdf\u001b[49m\u001b[38;5;241;43m.\u001b[39;49m\u001b[43mselect\u001b[49m\u001b[43m(\u001b[49m\u001b[38;5;28;43mself\u001b[39;49m\u001b[38;5;241;43m.\u001b[39;49m\u001b[43m_jcols\u001b[49m\u001b[43m(\u001b[49m\u001b[38;5;241;43m*\u001b[39;49m\u001b[43mcols\u001b[49m\u001b[43m)\u001b[49m\u001b[43m)\u001b[49m\n\u001b[1;32m   3228\u001b[0m     \u001b[38;5;28;01mreturn\u001b[39;00m DataFrame(jdf, \u001b[38;5;28mself\u001b[39m\u001b[38;5;241m.\u001b[39msparkSession)\n",
      "File \u001b[0;32m~/env/lib/python3.12/site-packages/py4j/java_gateway.py:1322\u001b[0m, in \u001b[0;36mJavaMember.__call__\u001b[0;34m(self, *args)\u001b[0m\n\u001b[1;32m   1316\u001b[0m command \u001b[38;5;241m=\u001b[39m proto\u001b[38;5;241m.\u001b[39mCALL_COMMAND_NAME \u001b[38;5;241m+\u001b[39m\\\n\u001b[1;32m   1317\u001b[0m     \u001b[38;5;28mself\u001b[39m\u001b[38;5;241m.\u001b[39mcommand_header \u001b[38;5;241m+\u001b[39m\\\n\u001b[1;32m   1318\u001b[0m     args_command \u001b[38;5;241m+\u001b[39m\\\n\u001b[1;32m   1319\u001b[0m     proto\u001b[38;5;241m.\u001b[39mEND_COMMAND_PART\n\u001b[1;32m   1321\u001b[0m answer \u001b[38;5;241m=\u001b[39m \u001b[38;5;28mself\u001b[39m\u001b[38;5;241m.\u001b[39mgateway_client\u001b[38;5;241m.\u001b[39msend_command(command)\n\u001b[0;32m-> 1322\u001b[0m return_value \u001b[38;5;241m=\u001b[39m \u001b[43mget_return_value\u001b[49m\u001b[43m(\u001b[49m\n\u001b[1;32m   1323\u001b[0m \u001b[43m    \u001b[49m\u001b[43manswer\u001b[49m\u001b[43m,\u001b[49m\u001b[43m \u001b[49m\u001b[38;5;28;43mself\u001b[39;49m\u001b[38;5;241;43m.\u001b[39;49m\u001b[43mgateway_client\u001b[49m\u001b[43m,\u001b[49m\u001b[43m \u001b[49m\u001b[38;5;28;43mself\u001b[39;49m\u001b[38;5;241;43m.\u001b[39;49m\u001b[43mtarget_id\u001b[49m\u001b[43m,\u001b[49m\u001b[43m \u001b[49m\u001b[38;5;28;43mself\u001b[39;49m\u001b[38;5;241;43m.\u001b[39;49m\u001b[43mname\u001b[49m\u001b[43m)\u001b[49m\n\u001b[1;32m   1325\u001b[0m \u001b[38;5;28;01mfor\u001b[39;00m temp_arg \u001b[38;5;129;01min\u001b[39;00m temp_args:\n\u001b[1;32m   1326\u001b[0m     \u001b[38;5;28;01mif\u001b[39;00m \u001b[38;5;28mhasattr\u001b[39m(temp_arg, \u001b[38;5;124m\"\u001b[39m\u001b[38;5;124m_detach\u001b[39m\u001b[38;5;124m\"\u001b[39m):\n",
      "File \u001b[0;32m~/env/lib/python3.12/site-packages/pyspark/errors/exceptions/captured.py:185\u001b[0m, in \u001b[0;36mcapture_sql_exception.<locals>.deco\u001b[0;34m(*a, **kw)\u001b[0m\n\u001b[1;32m    181\u001b[0m converted \u001b[38;5;241m=\u001b[39m convert_exception(e\u001b[38;5;241m.\u001b[39mjava_exception)\n\u001b[1;32m    182\u001b[0m \u001b[38;5;28;01mif\u001b[39;00m \u001b[38;5;129;01mnot\u001b[39;00m \u001b[38;5;28misinstance\u001b[39m(converted, UnknownException):\n\u001b[1;32m    183\u001b[0m     \u001b[38;5;66;03m# Hide where the exception came from that shows a non-Pythonic\u001b[39;00m\n\u001b[1;32m    184\u001b[0m     \u001b[38;5;66;03m# JVM exception message.\u001b[39;00m\n\u001b[0;32m--> 185\u001b[0m     \u001b[38;5;28;01mraise\u001b[39;00m converted \u001b[38;5;28;01mfrom\u001b[39;00m \u001b[38;5;28;01mNone\u001b[39;00m\n\u001b[1;32m    186\u001b[0m \u001b[38;5;28;01melse\u001b[39;00m:\n\u001b[1;32m    187\u001b[0m     \u001b[38;5;28;01mraise\u001b[39;00m\n",
      "\u001b[0;31mAnalysisException\u001b[0m: [UNRESOLVED_COLUMN.WITH_SUGGESTION] A column or function parameter with name `any` cannot be resolved. Did you mean one of the following? [`id`, `city`, `name`, `beds`, `notes`].;\n'Aggregate [count(CASE WHEN isnan('any) THEN any END) AS any#5783, count(CASE WHEN isnan('num_mes) THEN num_mes END) AS num_mes#5785, count(CASE WHEN isnan('nom_mes) THEN nom_mes END) AS nom_mes#5787, count(CASE WHEN isnan('regio_policial) THEN regio_policial END) AS regio_policial#5789, count(CASE WHEN isnan('area_basica_policial) THEN area_basica_policial END) AS area_basica_policial#5791, count(CASE WHEN isnan('provincia) THEN provincia END) AS provincia#5793, count(CASE WHEN isnan('comarca) THEN comarca END) AS comarca#5795, count(CASE WHEN isnan('municipi) THEN municipi END) AS municipi#5797, count(CASE WHEN isnan('tipus_de_lloc_dels_fets) THEN tipus_de_lloc_dels_fets END) AS tipus_de_lloc_dels_fets#5799, count(CASE WHEN isnan('canal_dels_fets) THEN canal_dels_fets END) AS canal_dels_fets#5801, count(CASE WHEN isnan('tipus_de_fet) THEN tipus_de_fet END) AS tipus_de_fet#5803, count(CASE WHEN isnan('titol_del_fet_codi_penal) THEN titol_del_fet_codi_penal END) AS titol_del_fet_codi_penal#5805, count(CASE WHEN isnan('tipus_de_fet_codi_penal) THEN tipus_de_fet_codi_penal END) AS tipus_de_fet_codi_penal#5807, count(CASE WHEN isnan('ambit_fet) THEN ambit_fet END) AS ambit_fet#5809, count(CASE WHEN isnan('nombre_fets_o_infraccions) THEN nombre_fets_o_infraccions END) AS nombre_fets_o_infraccions#5811, count(CASE WHEN isnan('nombre_victimes) THEN nombre_victimes END) AS nombre_victimes#5813]\n+- Relation [id#3200,listing_url#3201,scrape_id#3202,last_scraped#3203,name#3204,summary#3205,space#3206,description#3207,experiences_offered#3208,neighborhood_overview#3209,notes#3210,transit#3211,access#3212,interaction#3213,house_rules#3214,thumbnail_url#3215,medium_url#3216,picture_url#3217L,xl_picture_url#3218,host_id#3219,host_url#3220,host_name#3221,host_since#3222,host_location#3223,... 67 more fields] JDBCRelation((SELECT * FROM df_airbnb_listings) SPARK_GEN_SUBQ_36) [numPartitions=1]\n"
     ]
    }
   ],
   "source": [
    "nan_counts = df_aribnb.select([count(when(isnan(c), c)).alias(c) for c in df.columns])\n",
    "nan_counts.show()"
   ]
  },
  {
   "cell_type": "code",
   "execution_count": null,
   "metadata": {},
   "outputs": [],
   "source": []
  },
  {
   "cell_type": "code",
   "execution_count": null,
   "metadata": {},
   "outputs": [],
   "source": [
    "spark.stop()"
   ]
  }
 ],
 "metadata": {
  "kernelspec": {
   "display_name": "Python 3 (ipykernel)",
   "language": "python",
   "name": "python3"
  },
  "language_info": {
   "codemirror_mode": {
    "name": "ipython",
    "version": 3
   },
   "file_extension": ".py",
   "mimetype": "text/x-python",
   "name": "python",
   "nbconvert_exporter": "python",
   "pygments_lexer": "ipython3",
   "version": "3.12.2"
  }
 },
 "nbformat": 4,
 "nbformat_minor": 4
}
